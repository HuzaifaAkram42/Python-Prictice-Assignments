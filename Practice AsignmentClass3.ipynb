{
 "cells": [
  {
   "cell_type": "markdown",
   "id": "f6519aad",
   "metadata": {},
   "source": [
    "# User input"
   ]
  },
  {
   "cell_type": "raw",
   "id": "948191fe",
   "metadata": {},
   "source": [
    "1. Take a sentence input from user using input function. Count occurence of a particular character/word in the sentence and print the message that the character appear this many times in the sentence.\n",
    "Like if user inputs> \"My name is Sana. I am an undergraduate student. I am learning Artificial Intellegence in PIAIC\"\n",
    "Your output should be:\n",
    "    I appears 5 times in your sentence\n",
    "Hint: nahi batounga use string methods.\n",
    "Note: Sana is a boy. His full name is SanaUllah😄"
   ]
  },
  {
   "cell_type": "code",
   "execution_count": 5,
   "id": "ac3e3704",
   "metadata": {},
   "outputs": [
    {
     "name": "stdout",
     "output_type": "stream",
     "text": [
      "Enter a Sentence: My name is Muhammad Huzaifa. I am an undergraduate student. I am learning Artificial Intelligence in PIAIC\n",
      "n appears 9 times in Your Sentence\n"
     ]
    }
   ],
   "source": [
    "sentence = input(\"Enter a Sentence: \")\n",
    "count = sentence.count('n')\n",
    "print(f\"n appears {count} times in Your Sentence\")"
   ]
  },
  {
   "cell_type": "raw",
   "id": "bf6c3672",
   "metadata": {},
   "source": [
    "2. Take a number input from user and print the square of that number. \n",
    "\n",
    "if a user inputs 10 Your output should be like:\n",
    "    The square of 10 is 100\n",
    "if a user inputs 5 Your output should be like:\n",
    "    The square of 5 is 25\n",
    "if a user inputs 2 Your output should be like:\n",
    "    The square of 2 is 4\n"
   ]
  },
  {
   "cell_type": "code",
   "execution_count": 12,
   "id": "8acf8c79",
   "metadata": {},
   "outputs": [
    {
     "name": "stdout",
     "output_type": "stream",
     "text": [
      "Enter a Number to be square: 100\n",
      "The square of 100 is 10000\n"
     ]
    }
   ],
   "source": [
    "number = int(input(\"Enter a Number to be square: \"))\n",
    "result = number**2\n",
    "print(f\"The square of {number} is {result}\")"
   ]
  },
  {
   "cell_type": "raw",
   "id": "0da0f529",
   "metadata": {},
   "source": [
    "3. Take two inputs from user using two input functions add these two numbers and print the result.\n",
    "For example if a user inputs 10 in first input, 20 in second input then your output mustbe like:\n",
    "    The sum of 10 and 20 is 30\n",
    "    \n",
    "For example if a user inputs 12 in first input, 30 in second input then your output mustbe like:\n",
    "    The sum of 12 and 30 is 42\n",
    "\n",
    "For example if a user inputs 100 in first input, 200 in second input then your out put mustbe like:\n",
    "    The sum of 100 and 200 is 300"
   ]
  },
  {
   "cell_type": "code",
   "execution_count": 13,
   "id": "aa72af1f",
   "metadata": {},
   "outputs": [
    {
     "name": "stdout",
     "output_type": "stream",
     "text": [
      "Enter First Number: 34\n",
      "Enter Second Number: 66\n",
      "The Sum of 34 and 66 is 100\n"
     ]
    }
   ],
   "source": [
    "first_num = int(input(\"Enter First Number: \"))\n",
    "second_num = int(input(\"Enter Second Number: \"))\n",
    "result = first_num + second_num\n",
    "print(f\"The Sum of {first_num} and {second_num} is {result}\")"
   ]
  },
  {
   "cell_type": "raw",
   "id": "f957eb50",
   "metadata": {},
   "source": [
    "4. Format a string to display a card like string:\n",
    "    \n",
    "            Presidential Initiative for AI & Computing\n",
    "                          ID CARD\n",
    "            Student Name   : Asad Ali\n",
    "            Father Name    : Amjad Ali\n",
    "            Date of Birth  : 01-01-2000\n",
    "            Course Enrolled: Artificial Intelligence\n",
    "            Batch          : 2022\n",
    "            Day            : Saturday \n",
    "            Centre         : Sir Syed University of Engg and Technology\n",
    "                \n",
    "Note: all the field values must be taken as user inputs and stored in variable"
   ]
  },
  {
   "cell_type": "code",
   "execution_count": 15,
   "id": "0f2d4d2d",
   "metadata": {},
   "outputs": [
    {
     "name": "stdout",
     "output_type": "stream",
     "text": [
      "Enter Your Good Name: Muhammad Huzaifa\n",
      "Enter Your Father Name: Muhammad Akram\n",
      "Enter Your Date of Birth: 19-08-2001\n",
      "Enter Your Course In Which You Enrolled: Artificial Intelligence\n",
      "Enter Your Batch: 2022\n",
      "Enter Your Class Day: Saturday\n",
      "Enter Your Centre Name: Sir Sayed University of Engineering & Technology\n",
      "\n",
      "\n",
      "            Presidential Initiative for AI & Computing\n",
      "                          ID CARD\n",
      "            Student Name   : Muhammad Huzaifa\n",
      "            Father Name    : Muhammad Akram\n",
      "            Date of Birth  : 19-08-2001\n",
      "            Course Enrolled: Artificial Intelligence\n",
      "            Batch          : 2022\n",
      "            Day            : Saturday \n",
      "            Centre         : Sir Sayed University of Engineering & Technology\n",
      "            \n",
      "\n"
     ]
    }
   ],
   "source": [
    "name = input(\"Enter Your Good Name: \")\n",
    "f_name = input(\"Enter Your Father Name: \")\n",
    "date_of_birth = input(\"Enter Your Date of Birth: \")\n",
    "course = input(\"Enter Your Course In Which You Enrolled: \")\n",
    "batch = input(\"Enter Your Batch: \")\n",
    "day = input(\"Enter Your Class Day: \")\n",
    "centre = input(\"Enter Your Centre Name: \")\n",
    "\n",
    "print(f\"\"\"\n",
    "\n",
    "            Presidential Initiative for AI & Computing\n",
    "                          ID CARD\n",
    "            Student Name   : {name}\n",
    "            Father Name    : {f_name}\n",
    "            Date of Birth  : {date_of_birth}\n",
    "            Course Enrolled: {course}\n",
    "            Batch          : {batch}\n",
    "            Day            : {day} \n",
    "            Centre         : {centre}\n",
    "            \n",
    "\"\"\")"
   ]
  },
  {
   "cell_type": "code",
   "execution_count": null,
   "id": "90517d41",
   "metadata": {},
   "outputs": [],
   "source": []
  }
 ],
 "metadata": {
  "kernelspec": {
   "display_name": "Python 3 (ipykernel)",
   "language": "python",
   "name": "python3"
  },
  "language_info": {
   "codemirror_mode": {
    "name": "ipython",
    "version": 3
   },
   "file_extension": ".py",
   "mimetype": "text/x-python",
   "name": "python",
   "nbconvert_exporter": "python",
   "pygments_lexer": "ipython3",
   "version": "3.9.12"
  }
 },
 "nbformat": 4,
 "nbformat_minor": 5
}
