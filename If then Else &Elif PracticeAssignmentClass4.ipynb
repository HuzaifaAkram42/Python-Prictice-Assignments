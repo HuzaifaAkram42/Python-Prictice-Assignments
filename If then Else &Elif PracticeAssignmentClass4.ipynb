{
 "cells": [
  {
   "cell_type": "raw",
   "metadata": {
    "id": "8rksu2_jMVjQ"
   },
   "source": [
    "1) A company decided to give bonus of 5% to employee if his/her year of service is more than 5 years.\n",
    "Ask user for their salary and year of service and print the net bonus amount."
   ]
  },
  {
   "cell_type": "code",
   "execution_count": 3,
   "metadata": {
    "id": "_GRPHPiLMVjX"
   },
   "outputs": [
    {
     "name": "stdout",
     "output_type": "stream",
     "text": [
      "Enter your salary: 90000\n",
      "Enter your year of service: 7\n",
      "Congrats! You got a bonus 4500.0\n"
     ]
    }
   ],
   "source": [
    "#Type your code here\n",
    "bonus = None\n",
    "salary = int(input(\"Enter your salary: \"))\n",
    "\n",
    "year_of_Service = int(input(\"Enter your year of service: \"))\n",
    "\n",
    "if (year_of_Service > 5):\n",
    "    bonus = salary * 5 / 100\n",
    "    print(f\"Congrats! You got a bonus {bonus}\")\n",
    "else:\n",
    "    print(\"Sorry! You don't have any Bonus.\")"
   ]
  },
  {
   "cell_type": "markdown",
   "metadata": {
    "id": "iXt5RVcjMVja"
   },
   "source": [
    "\n",
    "2) Write a program to check whether a person is eligible for voting or not. (accept age from user)"
   ]
  },
  {
   "cell_type": "code",
   "execution_count": 4,
   "metadata": {
    "id": "jXVCvia3MVjh"
   },
   "outputs": [
    {
     "name": "stdout",
     "output_type": "stream",
     "text": [
      "Enter Your Age for voting 20\n",
      "congragulations! You are Eligible for Voting\n"
     ]
    }
   ],
   "source": [
    "#Type your code here\n",
    "VotingAge = int(input(\"Enter Your Age for voting \"))\n",
    "if (VotingAge > 18):\n",
    "    print(\"congragulations! You are Eligible for Voting\")\n",
    "else:\n",
    "    print(\"Sorry! You are not eligible for Voting\")"
   ]
  },
  {
   "cell_type": "markdown",
   "metadata": {
    "id": "IkNM7QpCMVjj"
   },
   "source": [
    "\n",
    "3) Write a program to check whether a number entered by user is even or odd."
   ]
  },
  {
   "cell_type": "code",
   "execution_count": 5,
   "metadata": {
    "id": "-GxviwByMVjl"
   },
   "outputs": [
    {
     "name": "stdout",
     "output_type": "stream",
     "text": [
      "Enter a Numbser: 55\n",
      "55 is Odd\n"
     ]
    }
   ],
   "source": [
    "#Type your code here\n",
    "Number = int(input(\"Enter a Numbser: \"))\n",
    "if (Number % 2 == 0):\n",
    "    print(f\"{Number} is Even\")\n",
    "else:\n",
    "    print(f\"{Number} is Odd\")"
   ]
  },
  {
   "cell_type": "markdown",
   "metadata": {
    "id": "_jEHjkfdMVjm"
   },
   "source": [
    "4) Write a program to check whether a number is divisible by 7 or not.\n",
    "Show Answer"
   ]
  },
  {
   "cell_type": "code",
   "execution_count": 1,
   "metadata": {
    "id": "IRNXyG1GMVjo"
   },
   "outputs": [
    {
     "name": "stdout",
     "output_type": "stream",
     "text": [
      "Enter a Numbser: 98\n",
      "98 is divisible by 7\n"
     ]
    }
   ],
   "source": [
    "#Type your code here\n",
    "Number = int(input(\"Enter a Numbser: \"))\n",
    "if (Number % 7 == 0):\n",
    "    print(f\"{Number} is divisible by 7\")\n",
    "else:\n",
    "    print(f\"{Number} is not divisible by 7\")"
   ]
  },
  {
   "cell_type": "raw",
   "metadata": {
    "id": "XxfyVe4kMVjp"
   },
   "source": [
    "5) Write a program to display \n",
    "\"Hello\" if a number entered by user is a multiple of five , otherwise print \"Bye\"."
   ]
  },
  {
   "cell_type": "code",
   "execution_count": 2,
   "metadata": {
    "id": "Ixnz4R4TMVjr"
   },
   "outputs": [
    {
     "name": "stdout",
     "output_type": "stream",
     "text": [
      "Enter a Number: 60\n",
      "Hello\n"
     ]
    }
   ],
   "source": [
    "#Type your code here\n",
    "Number = int(input(\"Enter a Number: \"))\n",
    "if (Number % 5 == 0):\n",
    "    print(\"Hello\")\n",
    "else:\n",
    "    print(\"Bye\")"
   ]
  },
  {
   "cell_type": "raw",
   "metadata": {
    "id": "qfzRUUwOMVjs"
   },
   "source": [
    "6) Write a program to calculate the electricity bill (accept number of unit from user) according to the following criteria :\n",
    "     Unit                                                     Price  \n",
    "uptp 100 units                                             no charge\n",
    "Next 200 units                                              Rs 5 per unit\n",
    "After 200 units                                             Rs 10 per unit\n",
    "(For example if input unit is 350 than total bill amount is Rs.2000\n",
    "(For example if input unit is 97 than total bill amount is Rs.0\n",
    "(For example if input unit is 150 than total bill amount is Rs.250"
   ]
  },
  {
   "cell_type": "code",
   "execution_count": 1,
   "metadata": {
    "id": "1BY1oAIpMVju"
   },
   "outputs": [
    {
     "name": "stdout",
     "output_type": "stream",
     "text": [
      "Enter number of electricity Bill unit: 200\n",
      "Amount to pay in Pkr :  500\n"
     ]
    }
   ],
   "source": [
    "#Type your code here\n",
    "amount = 0\n",
    "number_of_units = int(input(\"Enter number of electricity Bill unit: \"))\n",
    "if number_of_units <= 100:\n",
    "     amount = 0\n",
    "if number_of_units > 100 and number_of_units <= 200:\n",
    "     amount = (number_of_units-100)*5\n",
    "if number_of_units > 200:\n",
    "     amount = 500+(number_of_units-200)*10\n",
    "print(\"Amount to pay in Pkr : \",amount)"
   ]
  },
  {
   "cell_type": "raw",
   "metadata": {
    "id": "msAIDMRDMVjv"
   },
   "source": [
    "7) Write a program to display the last digit of a number.\n"
   ]
  },
  {
   "cell_type": "code",
   "execution_count": 5,
   "metadata": {
    "id": "VQwLuGzbMVjv"
   },
   "outputs": [
    {
     "name": "stdout",
     "output_type": "stream",
     "text": [
      "Enter any number: 25012\n",
      "Last digit of number is 2\n"
     ]
    }
   ],
   "source": [
    "#Type your code here\n",
    "status = None\n",
    "number = int(input(\"Enter any number: \"))\n",
    "status = number%10\n",
    "print(\"Last digit of number is\",status)"
   ]
  },
  {
   "cell_type": "raw",
   "metadata": {
    "id": "UeLHzVZ_MVjw"
   },
   "source": [
    "\n",
    "Q8. Write a program to check whether the last digit of a number( entered by user ) is \n",
    "divisible by 3 or not."
   ]
  },
  {
   "cell_type": "code",
   "execution_count": 9,
   "metadata": {
    "id": "KiQ5wnc6MVjx"
   },
   "outputs": [
    {
     "name": "stdout",
     "output_type": "stream",
     "text": [
      "Enter any number25016\n",
      "Last digit of number is divisible by 3 \n"
     ]
    }
   ],
   "source": [
    "#Type your code here\n",
    "status = None\n",
    "number = int(input(\"Enter any number\"))\n",
    "status = number%10\n",
    "if (status%3==0):\n",
    "     print(\"Last digit of number is divisible by 3 \")\n",
    "else:\n",
    "     print(\"Last digit of number is not divisible by 3 \")"
   ]
  },
  {
   "cell_type": "raw",
   "metadata": {
    "id": "CR4sMmRgMVjy"
   },
   "source": [
    "9) Take values of length and breadth of a rectangle from user and check if it is square or not."
   ]
  },
  {
   "cell_type": "code",
   "execution_count": 10,
   "metadata": {
    "id": "Oj1MT5fCMVjy"
   },
   "outputs": [
    {
     "name": "stdout",
     "output_type": "stream",
     "text": [
      "Enter Length: 4\n",
      "Enter Breadth: 5\n",
      "No! It is not a Square\n"
     ]
    }
   ],
   "source": [
    "#Type your code here \n",
    "length = int(input(\"Enter Length: \"))\n",
    "breadth = int(input(\"Enter Breadth: \"))\n",
    "if (length==breadth):\n",
    "    print(\"Yes! It is Square\")\n",
    "else:\n",
    "    print(\"No! It is not a Square\")"
   ]
  },
  {
   "cell_type": "raw",
   "metadata": {
    "id": "B2e5VYbiMVjz"
   },
   "source": [
    "10) Take two int values from user and print greatest among them."
   ]
  },
  {
   "cell_type": "code",
   "execution_count": 12,
   "metadata": {
    "id": "LyYYL78HMVj0"
   },
   "outputs": [
    {
     "name": "stdout",
     "output_type": "stream",
     "text": [
      "Enter First Number: 25\n",
      "Enter Second Number: 35\n",
      "35 is Greatest\n"
     ]
    }
   ],
   "source": [
    "# Type your code here\n",
    "first = int(input(\"Enter First Number: \"))\n",
    "second = int(input(\"Enter Second Number: \"))\n",
    "if (first>second):\n",
    "    print(first,\"is Greatest\")\n",
    "elif (second>first):\n",
    "    print(second,\"is Greatest\")\n",
    "else:\n",
    "    print(\"Both number are equals\")"
   ]
  },
  {
   "cell_type": "raw",
   "metadata": {
    "id": "R9gMEjdQMVj1"
   },
   "source": [
    "11) A shop will give discount of 10% if the cost of purchased quantity is more than 1000.\n",
    "Ask user for quantity\n",
    "Suppose, one unit will cost 100.\n",
    "Judge and print total cost for user."
   ]
  },
  {
   "cell_type": "code",
   "execution_count": 5,
   "metadata": {
    "id": "hjvEnOzxMVj2"
   },
   "outputs": [
    {
     "name": "stdout",
     "output_type": "stream",
     "text": [
      "Enter Quantity: 20\n",
      "The total cost is 1800.0\n"
     ]
    }
   ],
   "source": [
    "#Type your code here\n",
    "total_cost = None\n",
    "quantity = int(input(\"Enter Quantity: \"))\n",
    "if ((quantity*100)>1000):\n",
    "    total_cost = ((quantity*100)-(10*(quantity*100)/100))\n",
    "else:                  \n",
    "    total_cost = quantity*100\n",
    "print(\"The total cost is\",total_cost)"
   ]
  },
  {
   "cell_type": "raw",
   "metadata": {
    "id": "yqYL7FZeMVj3"
   },
   "source": [
    "12) A school has following rules for grading system:\n",
    "\n",
    "a. Below 25 - F\n",
    "\n",
    "b. 25 to 45 - E\n",
    "\n",
    "c. 45 to 50 - D\n",
    "\n",
    "d. 50 to 60 - C\n",
    "\n",
    "e. 60 to 80 - B\n",
    "\n",
    "f. Above 80 - A\n",
    "\n",
    "Ask user to enter marks and print the corresponding grade."
   ]
  },
  {
   "cell_type": "code",
   "execution_count": 7,
   "metadata": {
    "id": "he_r-bpOMVj4"
   },
   "outputs": [
    {
     "name": "stdout",
     "output_type": "stream",
     "text": [
      "Enter Your marks from 1-100: 70\n",
      "B\n"
     ]
    }
   ],
   "source": [
    "#Type your code here\n",
    "marks = int(input(\"Enter Your marks from 1-100: \"))\n",
    "if (marks<25):\n",
    "    print(\"F\")\n",
    "elif (marks>=25) and (marks<45):\n",
    "    print(\"E\")\n",
    "elif (marks>=45) and (marks<50):\n",
    "    print(\"D\")\n",
    "elif (marks>=50) and (marks<60):\n",
    "    print(\"C\")\n",
    "elif (marks>=60) and (marks<80):\n",
    "    print(\"B\")\n",
    "else:\n",
    "    print(\"A\")"
   ]
  },
  {
   "cell_type": "raw",
   "metadata": {
    "id": "IUJjt9NbMVj4"
   },
   "source": [
    "13) Take input of age of 3 people by user and determine oldest and youngest among them."
   ]
  },
  {
   "cell_type": "code",
   "execution_count": 9,
   "metadata": {
    "id": "vlre5Ck0MVj4"
   },
   "outputs": [
    {
     "name": "stdout",
     "output_type": "stream",
     "text": [
      "Enter first person age: 22\n",
      "Enter second person age: 49\n",
      "Enter third person age: 56\n",
      "third person age is oldest\n",
      "first person age is Youngest\n"
     ]
    }
   ],
   "source": [
    "#Type your code here\n",
    "first_person_age = int(input(\"Enter first person age: \"))\n",
    "second_person_age = int(input(\"Enter second person age: \"))\n",
    "third_person_age =int(input(\"Enter third person age: \"))\n",
    "if (first_person_age>second_person_age and first_person_age>third_person_age):\n",
    "    print(\"first person age is oldest\")\n",
    "elif second_person_age>first_person_age and second_person_age>third_person_age:\n",
    "    print(\"second person age is oldest\")\n",
    "else:\n",
    "    print(\"third person age is oldest\")\n",
    "if (first_person_age<second_person_age and first_person_age<third_person_age):\n",
    "    print(\"first person age is Youngest\")\n",
    "elif second_person_age<first_person_age and second_person_age<third_person_age:\n",
    "    print(\"second person age is Youngest\")\n",
    "else:\n",
    "    print(\"third person age is Youngest\")"
   ]
  },
  {
   "cell_type": "raw",
   "metadata": {
    "id": "Zc9ovDhsMVj5"
   },
   "source": [
    "14)A student will not be allowed to sit in exam if his/her attendence is less than 75%.\n",
    "\n",
    "Take following input from user\n",
    "\n",
    "Number of classes held\n",
    "\n",
    "Number of classes attended.\n",
    "\n",
    "And print\n",
    "\n",
    "percentage of class attended\n",
    "\n",
    "Is student is allowed to sit in exam or not.\n"
   ]
  },
  {
   "cell_type": "code",
   "execution_count": 10,
   "metadata": {
    "id": "rseYum2_MVj6"
   },
   "outputs": [
    {
     "name": "stdout",
     "output_type": "stream",
     "text": [
      "Number of classes held:100\n",
      "Number of classes attended:78\n",
      "The student is allowed to sit in the exam hall\n"
     ]
    }
   ],
   "source": [
    "#Type your code here\n",
    "num_classes_held = int(input(\"Number of classes held:\"))\n",
    "\n",
    "num_classes_attnd = int(input(\"Number of classes attended:\"))\n",
    "\n",
    "percentage=num_classes_attnd/num_classes_held*100\n",
    "\n",
    "if percentage>=75:\n",
    "\n",
    "        print(\"The student is allowed to sit in the exam hall\")\n",
    "\n",
    "else:\n",
    "\n",
    "        print(\"The student is not allowed to sit in the exam hall\")"
   ]
  },
  {
   "cell_type": "raw",
   "metadata": {
    "id": "58UPPHAOMVj6"
   },
   "source": [
    "15) Modify the above question to allow student to sit if he/she has medical cause. Ask user if he/she has medical cause or not ( 'Y' or 'N' ) and print accordingly."
   ]
  },
  {
   "cell_type": "code",
   "execution_count": 15,
   "metadata": {
    "id": "lDi-xLzTMVj7"
   },
   "outputs": [
    {
     "name": "stdout",
     "output_type": "stream",
     "text": [
      "you have medical cause 'Y' or 'N': n\n",
      "The student is not allowed to sit in the exam hall\n"
     ]
    }
   ],
   "source": [
    "#Type your code here\n",
    "medical_cause = input(\"you have medical cause 'Y' or 'N': \").upper()\n",
    "if (medical_cause == 'Y'):\n",
    "    print(\"The student is allowed to sit in the exam hall\")\n",
    "else:\n",
    "    print(\"The student is not allowed to sit in the exam hall\")"
   ]
  },
  {
   "cell_type": "raw",
   "metadata": {
    "id": "kJtSy1EoMVj7"
   },
   "source": [
    "16) Write a program to check if a year is leap year or not.\n",
    "\n",
    "If a year is divisible by 4 then it is leap year but if the year is century year like 2000, 1900, 2100 then it must be divisible by 400."
   ]
  },
  {
   "cell_type": "code",
   "execution_count": 17,
   "metadata": {
    "id": "QUL_YUX3MVj7"
   },
   "outputs": [
    {
     "name": "stdout",
     "output_type": "stream",
     "text": [
      "Enter the year: 2000\n",
      "Entered year is leap year\n"
     ]
    }
   ],
   "source": [
    "#Type your code here\n",
    "year=int(input(\"Enter the year: \"))\n",
    "if (year%100==0):\n",
    "    if (year%400==0):\n",
    "          print(\"Entered year is leap year\")\n",
    "    else:\n",
    "          print(\"Entered year is not a leap year\")\n",
    "else:\n",
    "    if (year%4==0):\n",
    "         print(\"Entered year is leap year\")  \n",
    "    else:\n",
    "        print(\"Entered year is not a leap year\")"
   ]
  },
  {
   "cell_type": "raw",
   "metadata": {
    "id": "CCNg4yDDMVj8"
   },
   "source": [
    "17) Ask user to enter age, gender ( M or F ), marital status ( Y or N ) and then using following rules print their place of service.\n",
    "\n",
    "if employee is female, then she will work only in urban areas.\n",
    "\n",
    "if employee is a male and age is in between 20 to 40 then he may work in anywhere\n",
    "\n",
    "if employee is male and age is in between 40 t0 60 then he will work in urban areas only.\n",
    "\n",
    "And any other input of age should print \"ERROR\""
   ]
  },
  {
   "cell_type": "code",
   "execution_count": 20,
   "metadata": {
    "id": "RDWMB0CZMVj8"
   },
   "outputs": [
    {
     "name": "stdout",
     "output_type": "stream",
     "text": [
      "Enter Employee Name: Abid Ali\n",
      "Gender: M or F: m\n",
      "Enter your Age: 23\n",
      "Marital Status: Y or N n\n",
      "Abid Ali  may work anywhere\n"
     ]
    }
   ],
   "source": [
    "#Type your code here\n",
    "name = input(\"Enter Employee Name: \")\n",
    "gender = input(\"Gender: M or F: \").upper()\n",
    "age = int(input(\"Enter your Age: \"))\n",
    "marital_status = input(\"Marital Status: Y or N \").upper()\n",
    "if gender==\"M\":\n",
    "    if age >=20 and age <=40:\n",
    "        print(name,\" may work anywhere\")\n",
    "    elif age > 40 and age <= 60:\n",
    "        print(name,\"will work in Urban areas only\")\n",
    "    else:\n",
    "        print(\"ERROR\")\n",
    "else:\n",
    "    print(name,\"will work only in Urban areas\")"
   ]
  }
 ],
 "metadata": {
  "colab": {
   "name": "If then Else &Elif Practice Task .ipynb",
   "provenance": []
  },
  "kernelspec": {
   "display_name": "Python 3 (ipykernel)",
   "language": "python",
   "name": "python3"
  },
  "language_info": {
   "codemirror_mode": {
    "name": "ipython",
    "version": 3
   },
   "file_extension": ".py",
   "mimetype": "text/x-python",
   "name": "python",
   "nbconvert_exporter": "python",
   "pygments_lexer": "ipython3",
   "version": "3.9.12"
  }
 },
 "nbformat": 4,
 "nbformat_minor": 1
}
